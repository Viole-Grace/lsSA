{
 "cells": [
  {
   "cell_type": "code",
   "execution_count": 1,
   "metadata": {},
   "outputs": [
    {
     "name": "stderr",
     "output_type": "stream",
     "text": [
      "Using TensorFlow backend.\n"
     ]
    }
   ],
   "source": [
    "import keras\n",
    "from keras.models import Sequential\n",
    "from keras.layers import Dense, Embedding\n",
    "from keras.layers import LSTM\n",
    "from keras.datasets import imdb\n",
    "from keras.preprocessing import sequence"
   ]
  },
  {
   "cell_type": "code",
   "execution_count": 4,
   "metadata": {},
   "outputs": [],
   "source": [
    "import numpy as np\n",
    "np_load_old = np.load\n",
    "np.load = lambda *a,**k: np_load_old(*a, allow_pickle=True, **k)\n",
    "(x_tr, y_tr), (x_te, y_te) = imdb.load_data(num_words=20000)\n",
    "# restore np.load for future normal usage\n",
    "np.load = np_load_old"
   ]
  },
  {
   "cell_type": "code",
   "execution_count": 6,
   "metadata": {},
   "outputs": [],
   "source": [
    "#seq to vec. I will make the model using seq2seq metrics, this is only a sample run.\n",
    "# x=num_format(word), y=classification\n",
    "x_tr, x_te=sequence.pad_sequences(x_tr, maxlen=100), sequence.pad_sequences(x_te, maxlen=100)"
   ]
  },
  {
   "cell_type": "code",
   "execution_count": 7,
   "metadata": {},
   "outputs": [
    {
     "name": "stderr",
     "output_type": "stream",
     "text": [
      "WARNING: Logging before flag parsing goes to stderr.\n",
      "W0705 03:23:54.853491 140715567368000 deprecation_wrapper.py:119] From /home/aamir/.local/lib/python3.6/site-packages/keras/backend/tensorflow_backend.py:74: The name tf.get_default_graph is deprecated. Please use tf.compat.v1.get_default_graph instead.\n",
      "\n",
      "W0705 03:23:54.914116 140715567368000 deprecation_wrapper.py:119] From /home/aamir/.local/lib/python3.6/site-packages/keras/backend/tensorflow_backend.py:517: The name tf.placeholder is deprecated. Please use tf.compat.v1.placeholder instead.\n",
      "\n",
      "W0705 03:23:54.932703 140715567368000 deprecation_wrapper.py:119] From /home/aamir/.local/lib/python3.6/site-packages/keras/backend/tensorflow_backend.py:4138: The name tf.random_uniform is deprecated. Please use tf.random.uniform instead.\n",
      "\n",
      "W0705 03:23:55.141953 140715567368000 deprecation_wrapper.py:119] From /home/aamir/.local/lib/python3.6/site-packages/keras/backend/tensorflow_backend.py:133: The name tf.placeholder_with_default is deprecated. Please use tf.compat.v1.placeholder_with_default instead.\n",
      "\n",
      "W0705 03:23:55.150856 140715567368000 deprecation.py:506] From /home/aamir/.local/lib/python3.6/site-packages/keras/backend/tensorflow_backend.py:3445: calling dropout (from tensorflow.python.ops.nn_ops) with keep_prob is deprecated and will be removed in a future version.\n",
      "Instructions for updating:\n",
      "Please use `rate` instead of `keep_prob`. Rate should be set to `rate = 1 - keep_prob`.\n"
     ]
    }
   ],
   "source": [
    "model=Sequential()\n",
    "model.add(Embedding(20000,128))\n",
    "model.add(LSTM(128, dropout=0.3, recurrent_dropout=0.3))\n",
    "model.add(Dense(1, activation='sigmoid')) #since it is only binary for us"
   ]
  },
  {
   "cell_type": "code",
   "execution_count": 8,
   "metadata": {},
   "outputs": [
    {
     "name": "stderr",
     "output_type": "stream",
     "text": [
      "W0705 03:25:30.195913 140715567368000 deprecation_wrapper.py:119] From /home/aamir/.local/lib/python3.6/site-packages/keras/optimizers.py:790: The name tf.train.Optimizer is deprecated. Please use tf.compat.v1.train.Optimizer instead.\n",
      "\n",
      "W0705 03:25:30.231265 140715567368000 deprecation_wrapper.py:119] From /home/aamir/.local/lib/python3.6/site-packages/keras/backend/tensorflow_backend.py:3376: The name tf.log is deprecated. Please use tf.math.log instead.\n",
      "\n",
      "W0705 03:25:30.237216 140715567368000 deprecation.py:323] From /home/aamir/.local/lib/python3.6/site-packages/tensorflow/python/ops/nn_impl.py:180: add_dispatch_support.<locals>.wrapper (from tensorflow.python.ops.array_ops) is deprecated and will be removed in a future version.\n",
      "Instructions for updating:\n",
      "Use tf.where in 2.0, which has the same broadcast rule as np.where\n"
     ]
    }
   ],
   "source": [
    "model.compile(loss='binary_crossentropy',optimizer='adam',metrics=['accuracy'])"
   ]
  },
  {
   "cell_type": "code",
   "execution_count": 9,
   "metadata": {},
   "outputs": [
    {
     "name": "stdout",
     "output_type": "stream",
     "text": [
      "Train on 25000 samples, validate on 25000 samples\n",
      "Epoch 1/10\n",
      " - 323s - loss: 0.4799 - acc: 0.7729 - val_loss: 0.4463 - val_acc: 0.8065\n",
      "Epoch 2/10\n",
      " - 319s - loss: 0.3319 - acc: 0.8629 - val_loss: 0.3799 - val_acc: 0.8401\n",
      "Epoch 3/10\n",
      " - 344s - loss: 0.2418 - acc: 0.9036 - val_loss: 0.4122 - val_acc: 0.8418\n",
      "Epoch 4/10\n",
      " - 302s - loss: 0.1748 - acc: 0.9350 - val_loss: 0.3926 - val_acc: 0.8440\n",
      "Epoch 5/10\n",
      " - 249s - loss: 0.1128 - acc: 0.9608 - val_loss: 0.4815 - val_acc: 0.8366\n",
      "Epoch 6/10\n",
      " - 302s - loss: 0.0757 - acc: 0.9740 - val_loss: 0.5831 - val_acc: 0.8332\n",
      "Epoch 7/10\n",
      " - 437s - loss: 0.0511 - acc: 0.9831 - val_loss: 0.6963 - val_acc: 0.8320\n",
      "Epoch 8/10\n",
      " - 299s - loss: 0.0359 - acc: 0.9882 - val_loss: 0.7335 - val_acc: 0.8301\n",
      "Epoch 9/10\n",
      " - 309s - loss: 0.0229 - acc: 0.9921 - val_loss: 0.8536 - val_acc: 0.8277\n",
      "Epoch 10/10\n",
      " - 320s - loss: 0.0161 - acc: 0.9952 - val_loss: 0.9730 - val_acc: 0.8266\n"
     ]
    },
    {
     "data": {
      "text/plain": [
       "<keras.callbacks.History at 0x7ffa752e32e8>"
      ]
     },
     "execution_count": 9,
     "metadata": {},
     "output_type": "execute_result"
    }
   ],
   "source": [
    "model.fit(x_tr, y_tr, batch_size=16, epochs=10, verbose=2,validation_data=(x_te, y_te))"
   ]
  },
  {
   "cell_type": "code",
   "execution_count": 10,
   "metadata": {},
   "outputs": [],
   "source": [
    "#takes more than an hour to train, but the dataset is small. "
   ]
  },
  {
   "cell_type": "code",
   "execution_count": 11,
   "metadata": {},
   "outputs": [
    {
     "name": "stdout",
     "output_type": "stream",
     "text": [
      "Score :  0.973002676825039 \n",
      "Accuracy :  0.8266\n"
     ]
    }
   ],
   "source": [
    "score, acc=model.evaluate(x_te, y_te, batch_size=16, verbose=2)\n",
    "print(\"Score : \",score,\"\\nAccuracy : \",acc)"
   ]
  },
  {
   "cell_type": "code",
   "execution_count": null,
   "metadata": {},
   "outputs": [],
   "source": []
  }
 ],
 "metadata": {
  "kernelspec": {
   "display_name": "Python 3",
   "language": "python",
   "name": "python3"
  },
  "language_info": {
   "codemirror_mode": {
    "name": "ipython",
    "version": 3
   },
   "file_extension": ".py",
   "mimetype": "text/x-python",
   "name": "python",
   "nbconvert_exporter": "python",
   "pygments_lexer": "ipython3",
   "version": "3.6.8"
  }
 },
 "nbformat": 4,
 "nbformat_minor": 2
}
